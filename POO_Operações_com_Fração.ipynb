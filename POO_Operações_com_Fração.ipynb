{
  "nbformat": 4,
  "nbformat_minor": 0,
  "metadata": {
    "colab": {
      "provenance": [],
      "include_colab_link": true
    },
    "kernelspec": {
      "name": "python3",
      "display_name": "Python 3"
    },
    "language_info": {
      "name": "python"
    }
  },
  "cells": [
    {
      "cell_type": "markdown",
      "metadata": {
        "id": "view-in-github",
        "colab_type": "text"
      },
      "source": [
        "<a href=\"https://colab.research.google.com/github/Raf4CG/RCG_ADA1011POO/blob/main/POO_Opera%C3%A7%C3%B5es_com_Fra%C3%A7%C3%A3o.ipynb\" target=\"_parent\"><img src=\"https://colab.research.google.com/assets/colab-badge.svg\" alt=\"Open In Colab\"/></a>"
      ]
    },
    {
      "cell_type": "code",
      "execution_count": null,
      "metadata": {
        "colab": {
          "base_uri": "https://localhost:8080/",
          "height": 297
        },
        "id": "PJXD0Sz_CudT",
        "outputId": "e67ca8dd-4dd3-4623-f37e-dcdd33790be2"
      },
      "outputs": [
        {
          "output_type": "stream",
          "name": "stdout",
          "text": [
            "Digite o numerador: 5\n",
            "Digite o denominador: 10\n",
            "Numerador 5 Denominador 10\n"
          ]
        },
        {
          "output_type": "error",
          "ename": "TypeError",
          "evalue": "ignored",
          "traceback": [
            "\u001b[0;31m---------------------------------------------------------------------------\u001b[0m",
            "\u001b[0;31mTypeError\u001b[0m                                 Traceback (most recent call last)",
            "\u001b[0;32m<ipython-input-8-e600b2814784>\u001b[0m in \u001b[0;36m<cell line: 39>\u001b[0;34m()\u001b[0m\n\u001b[1;32m     37\u001b[0m \u001b[0ma\u001b[0m \u001b[0;34m=\u001b[0m \u001b[0mFracao\u001b[0m\u001b[0;34m(\u001b[0m\u001b[0;36m1\u001b[0m\u001b[0;34m,\u001b[0m \u001b[0;36m2\u001b[0m\u001b[0;34m)\u001b[0m\u001b[0;34m\u001b[0m\u001b[0;34m\u001b[0m\u001b[0m\n\u001b[1;32m     38\u001b[0m \u001b[0mb\u001b[0m \u001b[0;34m=\u001b[0m \u001b[0mFracao\u001b[0m\u001b[0;34m(\u001b[0m\u001b[0;36m3\u001b[0m\u001b[0;34m,\u001b[0m \u001b[0;36m4\u001b[0m\u001b[0;34m)\u001b[0m\u001b[0;34m\u001b[0m\u001b[0;34m\u001b[0m\u001b[0m\n\u001b[0;32m---> 39\u001b[0;31m \u001b[0mprint\u001b[0m\u001b[0;34m(\u001b[0m\u001b[0;34m\"Soma:\"\u001b[0m\u001b[0;34m,\u001b[0m \u001b[0ma\u001b[0m \u001b[0;34m+\u001b[0m \u001b[0mb\u001b[0m\u001b[0;34m)\u001b[0m\u001b[0;34m\u001b[0m\u001b[0;34m\u001b[0m\u001b[0m\n\u001b[0m\u001b[1;32m     40\u001b[0m \u001b[0mprint\u001b[0m\u001b[0;34m(\u001b[0m\u001b[0;34m\"Subtração:\"\u001b[0m\u001b[0;34m,\u001b[0m \u001b[0ma\u001b[0m \u001b[0;34m-\u001b[0m \u001b[0mb\u001b[0m\u001b[0;34m)\u001b[0m\u001b[0;34m\u001b[0m\u001b[0;34m\u001b[0m\u001b[0m\n\u001b[1;32m     41\u001b[0m \u001b[0mprint\u001b[0m\u001b[0;34m(\u001b[0m\u001b[0;34m\"Multiplicação:\"\u001b[0m\u001b[0;34m,\u001b[0m \u001b[0ma\u001b[0m \u001b[0;34m*\u001b[0m \u001b[0mb\u001b[0m\u001b[0;34m)\u001b[0m\u001b[0;34m\u001b[0m\u001b[0;34m\u001b[0m\u001b[0m\n",
            "\u001b[0;31mTypeError\u001b[0m: unsupported operand type(s) for +: 'Fracao' and 'Fracao'"
          ]
        }
      ],
      "source": [
        "numerador = int(input(\"Digite o numerador: \"))\n",
        "denominador = int(input(\"Digite o denominador: \"))\n",
        "print(\"Numerador\", numerador, \"Denominador\", denominador)\n",
        "\n",
        "class Fracao:\n",
        "  def __init__(self, numerador, denominador):\n",
        "    self.numerador = numerador\n",
        "    self.denominador = denominador\n",
        "\n",
        "  def soma(self, other):\n",
        "    num = self.numerador * other.denominador + other.numerador * self.denominador\n",
        "    den = self.denominador * other.denominador\n",
        "    return Fracao(num, den)\n",
        "\n",
        "\n",
        "  def subtracao(self, other):\n",
        "    num = self.numerador * other.denominador - other.numerador * self.denominador\n",
        "    den = self.denominador * other.denominador\n",
        "    return Fracao(num, den)\n",
        "\n",
        "  def multiplicacao(self, other):\n",
        "    num = self.numerator * other.numerator\n",
        "    den = self.denominator * other.denominator\n",
        "    return Fracao(num, den)\n",
        "\n",
        "  def divisao(self, other):\n",
        "    num = self.denominador * other.denominador\n",
        "    den = self.numerador * other.numerador\n",
        "    return Fracao(num, den)\n",
        "\n",
        "  def str(self):\n",
        "    return f\"{self.numerador}/{self.denominador}\"\n",
        "\n",
        "  def repr(self):\n",
        "    return f\"Fracao({self.numerador}, {self.denominador})\"\n",
        "\n",
        "a = Fracao(1, 2)\n",
        "b = Fracao(3, 4)\n",
        "print(\"Soma:\", a.soma b)\n",
        "print(\"Subtração:\", a - b)\n",
        "print(\"Multiplicação:\", a * b)\n",
        "print(\"Divisão:\", a / b)\n"
      ]
    },
    {
      "cell_type": "code",
      "source": [
        "class Fracao:\n",
        "  def __init__(self, numerador, denominador):\n",
        "    self.numerador = numerador\n",
        "    self.denominador = denominador\n",
        "\n",
        "  def __add__(self, other):\n",
        "    num = self.numerador * other.denominador + other.numerador * self.denominador\n",
        "    den = self.denominador * other.denominador\n",
        "    return Fracao(num, den)\n",
        "\n",
        "  def __sub__(self, other):\n",
        "    num = self.numerador * other.denominador - other.numerador * self.denominador\n",
        "    den = self.denominador * other.denominador\n",
        "    return Fracao(num, den)\n",
        "\n",
        "  def __mul__(self, other):\n",
        "    num = self.numerador * other.numerador\n",
        "    den = self.denominador * other.denominador\n",
        "    return Fracao(num, den)\n",
        "\n",
        "  def __truediv__(self, other):\n",
        "    num = self.denominador * other.denominador\n",
        "    den = self.numerador * other.numerador\n",
        "    return Fracao(num, den)\n",
        "\n",
        "  def __str__(self):\n",
        "    return f\"{self.numerador}/{self.denominador}\"\n",
        "\n",
        "  def __repr__(self):\n",
        "    return f\"Fracao({self.numerador}, {self.denominador})\"\n",
        "\n",
        "a = Fracao(1, 2)\n",
        "b = Fracao(3, 4)\n",
        "\n",
        "print(str(a + b))\n",
        "print(str(a - b))\n",
        "print(str(a * b))\n",
        "print(str(a / b))\n",
        "\n"
      ],
      "metadata": {
        "id": "sYjyf4-BHAwb",
        "colab": {
          "base_uri": "https://localhost:8080/"
        },
        "outputId": "8814f3bd-b21c-4e3a-9bdf-1bc119ba167e"
      },
      "execution_count": null,
      "outputs": [
        {
          "output_type": "stream",
          "name": "stdout",
          "text": [
            "10/8\n",
            "-2/8\n",
            "3/8\n",
            "8/3\n"
          ]
        }
      ]
    },
    {
      "cell_type": "code",
      "source": [
        "class Fracao:\n",
        "    def __init__(self, numerador, denominador):\n",
        "        self.numerador = numerador\n",
        "        self.denominador = denominador\n",
        "\n",
        "    def soma(self, other):\n",
        "        num = self.numerador * other.denominador + other.numerador * self.denominador\n",
        "        den = self.denominador * other.denominador\n",
        "        return Fracao(num, den)\n",
        "\n",
        "    def subtracao(self, other):\n",
        "        num = self.numerador * other.denominador - other.numerador * self.denominador\n",
        "        den = self.denominador * other.denominador\n",
        "        return Fracao(num, den)\n",
        "\n",
        "    def multiplicacao(self, other):\n",
        "        num = self.numerador * other.numerador\n",
        "        den = self.denominador * other.denominador\n",
        "        return Fracao(num, den)\n",
        "\n",
        "    def divisao(self, other):\n",
        "        num = self.denominador * other.denominador\n",
        "        den = self.numerador * other.numerador\n",
        "        return Fracao(num, den)\n",
        "\n",
        "    def __str__(self):\n",
        "        return f\"{self.numerador}/{self.denominador}\"\n",
        "\n",
        "a = Fracao(1, 2)\n",
        "b = Fracao(3, 4)\n",
        "\n",
        "# Soma\n",
        "resultado_soma = a.soma(b)\n",
        "print(f\"Soma: {resultado_soma}\")\n",
        "\n",
        "# Subtração\n",
        "resultado_subtracao = a.subtracao(b)\n",
        "print(f\"Subtração: {resultado_subtracao}\")\n",
        "\n",
        "# Multiplicação\n",
        "resultado_multiplicacao = a.multiplicacao(b)\n",
        "print(f\"Multiplicação: {resultado_multiplicacao}\")\n",
        "\n",
        "# Divisão\n",
        "resultado_divisao = a.divisao(b)\n",
        "print(f\"Divisão: {resultado_divisao}\")\n"
      ],
      "metadata": {
        "colab": {
          "base_uri": "https://localhost:8080/"
        },
        "id": "RWfnVeXGK03v",
        "outputId": "d44bf365-e2cf-456b-81fb-ea0c8ecdd9d6"
      },
      "execution_count": null,
      "outputs": [
        {
          "output_type": "stream",
          "name": "stdout",
          "text": [
            "Soma: 10/8\n",
            "Subtração: -2/8\n",
            "Multiplicação: 3/8\n",
            "Divisão: 8/3\n"
          ]
        }
      ]
    }
  ]
}