{
  "nbformat": 4,
  "nbformat_minor": 0,
  "metadata": {
    "colab": {
      "provenance": [],
      "authorship_tag": "ABX9TyNWZ8kcxrjDfXEUtp5fnllw",
      "include_colab_link": true
    },
    "kernelspec": {
      "name": "python3",
      "display_name": "Python 3"
    },
    "language_info": {
      "name": "python"
    }
  },
  "cells": [
    {
      "cell_type": "markdown",
      "metadata": {
        "id": "view-in-github",
        "colab_type": "text"
      },
      "source": [
        "<a href=\"https://colab.research.google.com/github/Raf4CG/RCG_ADA1011POO/blob/main/Clientes_e_contas_banc%C3%A1rias.ipynb\" target=\"_parent\"><img src=\"https://colab.research.google.com/assets/colab-badge.svg\" alt=\"Open In Colab\"/></a>"
      ]
    },
    {
      "cell_type": "code",
      "execution_count": 1,
      "metadata": {
        "colab": {
          "base_uri": "https://localhost:8080/"
        },
        "id": "0iCD-EkXbtVy",
        "outputId": "18203a63-f20a-43c1-ec5d-9a9f931dd4ea"
      },
      "outputs": [
        {
          "output_type": "stream",
          "name": "stdout",
          "text": [
            "Cliente: João da Silva (CPF: 111.111.111-11 )\n",
            "Contas: ['1001']\n",
            "Cliente: Maria Souza (CPF: 222.222.222-22 )\n",
            "Contas: ['2002']\n",
            "Cliente: Pedro Almeida (CPF: 333.333.333-33 )\n",
            "Contas: ['3003']\n",
            "Cliente: Ana Santos (CPF: 444.444.444-44 )\n",
            "Contas: ['4004']\n",
            "Conta: 1001 - Saldo: R$ 800\n",
            "Conta: 2002 - Saldo: R$ 400\n",
            "Conta: 3003 - Saldo: R$ 1500\n",
            "Conta: 4004 - Saldo: R$ 1700\n"
          ]
        }
      ],
      "source": [
        "class Cliente:\n",
        "    def __init__(self, nome, cpf):\n",
        "        self.nome = nome\n",
        "        self.cpf = cpf\n",
        "        self.contas = []\n",
        "\n",
        "    def adicionar_conta(self, conta):\n",
        "        self.contas.append(conta)\n",
        "\n",
        "\n",
        "class ContaBancaria:\n",
        "    def __init__(self, numero, saldo=0):\n",
        "        self.numero = numero\n",
        "        self.saldo = saldo\n",
        "        self.cliente = None\n",
        "\n",
        "    def vincular_cliente(self, cliente):\n",
        "        self.cliente = cliente\n",
        "        cliente.adicionar_conta(self)\n",
        "\n",
        "    def depositar(self, valor):\n",
        "        self.saldo += valor\n",
        "\n",
        "    def sacar(self, valor):\n",
        "        if self.saldo >= valor:\n",
        "            self.saldo -= valor\n",
        "        else:\n",
        "            print(\"Saldo insuficiente.\")\n",
        "\n",
        "\n",
        "# Criando clientes\n",
        "cliente1 = Cliente(\"João da Silva\", \"111.111.111-11\")\n",
        "cliente2 = Cliente(\"Maria Souza\", \"222.222.222-22\")\n",
        "cliente3 = Cliente(\"Pedro Almeida\", \"333.333.333-33\")\n",
        "cliente4 = Cliente(\"Ana Santos\", \"444.444.444-44\")\n",
        "\n",
        "# Criando contas bancárias\n",
        "conta1 = ContaBancaria(\"1001\")\n",
        "conta2 = ContaBancaria(\"2002\")\n",
        "conta3 = ContaBancaria(\"3003\")\n",
        "conta4 = ContaBancaria(\"4004\")\n",
        "\n",
        "# Vinculando contas aos clientes\n",
        "conta1.vincular_cliente(cliente1)\n",
        "conta2.vincular_cliente(cliente2)\n",
        "conta3.vincular_cliente(cliente3)\n",
        "conta4.vincular_cliente(cliente4)\n",
        "\n",
        "# Operações nas contas\n",
        "conta1.depositar(1000)\n",
        "conta1.sacar(200)\n",
        "conta2.depositar(500)\n",
        "conta2.sacar(100)\n",
        "conta3.depositar(1500)\n",
        "conta4.depositar(2000)\n",
        "conta4.sacar(300)\n",
        "\n",
        "# Informações dos clientes\n",
        "print(\"Cliente:\", cliente1.nome, \"(CPF:\", cliente1.cpf, \")\")\n",
        "print(\"Contas:\", [conta.numero for conta in cliente1.contas])\n",
        "print(\"Cliente:\", cliente2.nome, \"(CPF:\", cliente2.cpf, \")\")\n",
        "print(\"Contas:\", [conta.numero for conta in cliente2.contas])\n",
        "print(\"Cliente:\", cliente3.nome, \"(CPF:\", cliente3.cpf, \")\")\n",
        "print(\"Contas:\", [conta.numero for conta in cliente3.contas])\n",
        "print(\"Cliente:\", cliente4.nome, \"(CPF:\", cliente4.cpf, \")\")\n",
        "print(\"Contas:\", [conta.numero for conta in cliente4.contas])\n",
        "\n",
        "print(\"Conta:\", conta1.numero, \"- Saldo: R$\", conta1.saldo)\n",
        "print(\"Conta:\", conta2.numero, \"- Saldo: R$\", conta2.saldo)\n",
        "print(\"Conta:\", conta3.numero, \"- Saldo: R$\", conta3.saldo)\n",
        "print(\"Conta:\", conta4.numero, \"- Saldo: R$\", conta4.saldo)"
      ]
    }
  ]
}